{
 "cells": [
  {
   "attachments": {},
   "cell_type": "markdown",
   "metadata": {},
   "source": [
    "# Aula 01 \n",
    "\n",
    "Utilizando ```numpy```"
   ]
  },
  {
   "cell_type": "code",
   "execution_count": 3,
   "metadata": {},
   "outputs": [],
   "source": [
    "# importando a biblioteca\n",
    "import numpy as np"
   ]
  },
  {
   "attachments": {},
   "cell_type": "markdown",
   "metadata": {},
   "source": [
    "### Atividade 1\n",
    "\n",
    "Uma das primeiras obras muldialmente publicadas de Dan Brown, autor do famoso `Código Da Vinci`, é o livro Fortaleza Digital. Neste livro, a personagem principal, Suzan Fletcher, é uma criptógrafa da NSA (National Security Agency). No livro, a personagem descreve como criar uma criptografia de forma simples :\n",
    " - 1. Substitua cada letra do alfabeto por um número. Assim, A = 1, B = 2, C = 3 e assim por diante. Logo a palavra ADA pode ser representada por 121.\n",
    "   - ADA => A = 1\n",
    "            D = 4\n",
    "            A = 1\n",
    "\n",
    "- 2. Para cada letra da palavra que deseja encriptar adicione 1. \n",
    " - ADA => A = 1 + 1 = 2 --> B\n",
    "          D = 4 + 1 = 5 --> E\n",
    "          A = 1 + 1 = 2 --> B\n",
    " - Assim, a palavra ADA, codificada seria BEB.\n",
    " \n",
    "- 3. Para decriptar, basta fazer o processo inverso. Representando cada letra da palavra codificada como número, subtraindo 1 e mapeando para a letra correspondente. \n",
    " \n",
    " Faça um programa que receba uma entrada e aplique a criptografia como mostrada acima.<br>\n",
    "> Obs.: Considere os valores de cada letra como os valores da tabela ascii.\n"
   ]
  },
  {
   "cell_type": "code",
   "execution_count": 51,
   "metadata": {},
   "outputs": [],
   "source": [
    "def criptografar(mensagem):\n",
    "    #criptografada = np.array([])\n",
    "    criptografada = []\n",
    "    for letra in mensagem:\n",
    "        #chave: adiciona um para criptografar\n",
    "        criptografada.append(chr(ord(letra) + 1))\n",
    "\n",
    "    return \"\".join(criptografada)\n",
    "\n",
    "def descriptografar(mensagem):\n",
    "    descriptografada = []\n",
    "    for letra in mensagem:\n",
    "        #chave: remove 1 para criptografar\n",
    "        descriptografada.append(chr(ord(letra) - 1))\n",
    "    \n",
    "    return \"\".join(descriptografada)\n",
    "\n"
   ]
  },
  {
   "cell_type": "code",
   "execution_count": 36,
   "metadata": {},
   "outputs": [
    {
     "data": {
      "text/plain": [
       "'Uftuf!ef!nfotbhfn'"
      ]
     },
     "execution_count": 36,
     "metadata": {},
     "output_type": "execute_result"
    }
   ],
   "source": [
    "criptografar('Teste de mensagem')"
   ]
  },
  {
   "cell_type": "code",
   "execution_count": 37,
   "metadata": {},
   "outputs": [
    {
     "data": {
      "text/plain": [
       "'Teste de mensagem'"
      ]
     },
     "execution_count": 37,
     "metadata": {},
     "output_type": "execute_result"
    }
   ],
   "source": [
    "descriptografar('Uftuf!ef!nfotbhfn')"
   ]
  },
  {
   "attachments": {},
   "cell_type": "markdown",
   "metadata": {},
   "source": [
    "#### Solução do exercício usando np.array"
   ]
  },
  {
   "cell_type": "code",
   "execution_count": 45,
   "metadata": {},
   "outputs": [],
   "source": [
    "def criptografar_np(mensagem):\n",
    "    criptografada = np.array([])\n",
    "    for letra in mensagem:\n",
    "        #chave: adiciona 1 para criptografar\n",
    "        criptografada = np.append(criptografada, chr(ord(letra) + 1))\n",
    "\n",
    "    return \"\".join(criptografada)\n",
    "\n",
    "def descriptografar_np(mensagem):\n",
    "    descriptografada = np.array([])\n",
    "    for letra in mensagem:\n",
    "        #chave: remove 1 para criptografar\n",
    "        descriptografada = np.append(descriptografada, chr(ord(letra) - 1))\n",
    "    \n",
    "    return \"\".join(descriptografada)\n",
    "\n"
   ]
  },
  {
   "cell_type": "code",
   "execution_count": 46,
   "metadata": {},
   "outputs": [
    {
     "data": {
      "text/plain": [
       "'uftuf'"
      ]
     },
     "execution_count": 46,
     "metadata": {},
     "output_type": "execute_result"
    }
   ],
   "source": [
    "criptografar_np('teste')"
   ]
  },
  {
   "cell_type": "code",
   "execution_count": 47,
   "metadata": {},
   "outputs": [
    {
     "data": {
      "text/plain": [
       "'teste'"
      ]
     },
     "execution_count": 47,
     "metadata": {},
     "output_type": "execute_result"
    }
   ],
   "source": [
    "descriptografar_np('uftuf')"
   ]
  },
  {
   "cell_type": "code",
   "execution_count": null,
   "metadata": {},
   "outputs": [],
   "source": []
  }
 ],
 "metadata": {
  "kernelspec": {
   "display_name": "Python 3",
   "language": "python",
   "name": "python3"
  },
  "language_info": {
   "codemirror_mode": {
    "name": "ipython",
    "version": 3
   },
   "file_extension": ".py",
   "mimetype": "text/x-python",
   "name": "python",
   "nbconvert_exporter": "python",
   "pygments_lexer": "ipython3",
   "version": "3.11.1"
  },
  "orig_nbformat": 4,
  "vscode": {
   "interpreter": {
    "hash": "cd630acd3fbadcb2fe87dabf0c76100e6d1c3d96744d8621a437a4590f09a0f3"
   }
  }
 },
 "nbformat": 4,
 "nbformat_minor": 2
}
